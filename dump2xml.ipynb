{
 "cells": [
  {
   "cell_type": "markdown",
   "source": [
    "# deepmd2phono3py\n",
    "the deepmd compute energy and force ,output .dump file, we need to convert it to .xml file for phono3py\n",
    "Author: zheng huanhuan\n"
   ],
   "metadata": {
    "collapsed": false
   },
   "id": "c7575444a629a30b"
  },
  {
   "cell_type": "code",
   "execution_count": 6,
   "outputs": [],
   "source": [
    "import numpy as np\n",
    "import pandas as pd\n",
    "import os\n",
    "import sys\n",
    "import shutil\n"
   ],
   "metadata": {
    "collapsed": false,
    "ExecuteTime": {
     "end_time": "2024-05-02T07:25:28.028046Z",
     "start_time": "2024-05-02T07:25:28.006641Z"
    }
   },
   "id": "8b580277f2adf1ed"
  },
  {
   "cell_type": "code",
   "execution_count": 10,
   "outputs": [
    {
     "name": "stdout",
     "output_type": "stream",
     "text": [
      "[[-0.150539, 3.74402e-10, 1.78977e-08], [0.038695, -3.29424e-14, 1.78482e-08], [0.0089627, -1.66962e-12, -3.62975e-09], [-0.00891174, 8.95758e-12, -3.6255e-09], [0.0943616, 0.000175299, 0.00245546], [-0.0449253, 0.00544858, -0.000579685], [-0.0449253, -0.00544858, 0.00057965], [0.0943616, -0.000175299, -0.00245549], [0.00654559, -0.00325519, 0.002683], [-0.00141004, 0.00745236, 0.00917029], [0.000143907, 0.00695482, -0.00904813], [0.00733575, -0.00335371, -0.00192361], [-0.0333379, -1.07245e-11, 8.33852e-08], [0.0178889, 4.65814e-11, 8.33812e-08], [0.000143907, -0.00695481, 0.00904811], [0.00733575, 0.00335371, 0.00192359], [0.00654559, 0.00325519, -0.00268302], [-0.00141004, -0.00745236, -0.00917031], [0.0078731, 8.97848e-12, -3.13288e-08], [-0.00473403, -3.06029e-12, -3.13272e-08]] 20\n"
     ]
    }
   ],
   "source": [
    "data = open('BZO.dump').readlines()\n",
    "data = [i.split() for i in data]\n",
    "fxfyfz = []\n",
    "# the force data is in the 10th line to the end\n",
    "for i in data[9:]:\n",
    "    fxfyfz.append([float(i[-3]), float(i[-2]), float(i[-1])])\n",
    "print(fxfyfz, len(fxfyfz))"
   ],
   "metadata": {
    "collapsed": false,
    "ExecuteTime": {
     "end_time": "2024-05-02T07:31:21.326155Z",
     "start_time": "2024-05-02T07:31:21.313688Z"
    }
   },
   "id": "9405db633e18bafa"
  },
  {
   "cell_type": "markdown",
   "source": [
    "now we get the force data from dump, we need to translate to xml file for phono3py"
   ],
   "metadata": {
    "collapsed": false
   },
   "id": "77b71cfa0ce379d5"
  },
  {
   "cell_type": "code",
   "execution_count": 11,
   "outputs": [],
   "source": [
    "with open('BZO.xml', 'w') as f:\n",
    "    f.write('<?xml version=\"1.0\" encoding=\"ISO-8859-1\"?>\\n')\n",
    "    f.write('<modeling>\\n')\n",
    "    f.write('   <calculation>\\n')\n",
    "    f.write('       <varray name=\"force\">\\n')\n",
    "    # the force data is in the 10th line to the end\n",
    "    for i in fxfyfz:\n",
    "        f.write(f'           <v>{i[0]} {i[1]} {i[2]}</v>\\n')\n",
    "    f.write('       </varray>\\n')\n",
    "    f.write('   </calculation>\\n')\n",
    "    f.write('</modeling>\\n')"
   ],
   "metadata": {
    "collapsed": false,
    "ExecuteTime": {
     "end_time": "2024-05-02T08:08:21.504848Z",
     "start_time": "2024-05-02T08:08:21.490443Z"
    }
   },
   "id": "764ca533f135878d"
  },
  {
   "cell_type": "code",
   "execution_count": null,
   "outputs": [],
   "source": [],
   "metadata": {
    "collapsed": false
   },
   "id": "61c523cde251ce09"
  }
 ],
 "metadata": {
  "kernelspec": {
   "display_name": "Python 3",
   "language": "python",
   "name": "python3"
  },
  "language_info": {
   "codemirror_mode": {
    "name": "ipython",
    "version": 2
   },
   "file_extension": ".py",
   "mimetype": "text/x-python",
   "name": "python",
   "nbconvert_exporter": "python",
   "pygments_lexer": "ipython2",
   "version": "2.7.6"
  }
 },
 "nbformat": 4,
 "nbformat_minor": 5
}
