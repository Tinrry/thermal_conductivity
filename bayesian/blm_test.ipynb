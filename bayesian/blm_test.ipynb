{
 "cells": [
  {
   "cell_type": "code",
   "execution_count": 1,
   "metadata": {},
   "outputs": [],
   "source": [
    "# https://www.mathworks.com/help/econ/empiricalblm.html#bvjyd4x-1\n",
    "# bayesian linear regression mo\n",
    "import numpy as np\n",
    "import matplotlib.pyplot as plt\n",
    "import pymc3 as pm\n",
    "import pandas as pd\n",
    "import seaborn as sns\n",
    "from sklearn import datasets\n",
    "from sklearn.model_selection import train_test_split\n",
    "from sklearn.datasets import make_regression\n",
    "from sklearn.linear_model import LinearRegression\n",
    "from sklearn.metrics import mean_squared_error"
   ]
  },
  {
   "cell_type": "code",
   "execution_count": 5,
   "metadata": {},
   "outputs": [
    {
     "data": {
      "text/plain": [
       "(2540, 19)"
      ]
     },
     "execution_count": 5,
     "metadata": {},
     "output_type": "execute_result"
    }
   ],
   "source": [
    "df = pd.read_csv('data_20240529.csv', dtype=np.float128)\n",
    "df.shape"
   ]
  },
  {
   "cell_type": "code",
   "execution_count": null,
   "metadata": {},
   "outputs": [],
   "source": [
    "# estimate the model\n",
    "X = df.drop('energy', axis=1)\n",
    "y = df['energy']\n",
    "X_train, X_test, y_train, y_test = train_test_split(X, y, test_size=0.2, random_state=0)\n",
    "del X, y"
   ]
  },
  {
   "cell_type": "code",
   "execution_count": null,
   "metadata": {},
   "outputs": [],
   "source": [
    "import pymc3 as pm\n",
    "\n",
    "# Step 1: Define the model structure\n",
    "with pm.Model() as model:\n",
    "    # Define prior distributions for the parameters\n",
    "    alpha = pm.Normal('alpha', mu=0, sd=10)\n",
    "    beta = pm.Normal('beta', mu=0, sd=10, shape=len(X_train.columns))\n",
    "\n",
    "    # Linear regression model\n",
    "    mu = alpha + pm.math.dot(beta, X_train.T)\n",
    "\n",
    "    # Step 2: Define the likelihood function\n",
    "    sigma = pm.HalfNormal('sigma', sd=1)\n",
    "    likelihood = pm.Normal('y', mu=mu, sd=sigma, observed=y_train)\n",
    "\n",
    "    # Step 4: Sample from the posterior distribution, this is simulate the posterior distribution, \n",
    "    # which is the distribution of the parameters given the data, using the No-U-Turn Sampler (NUTS) algorithm, \n",
    "    # a variant of Hamiltonian Monte Carlo (HMC), to generate samples from the posterior distribution.\n",
    "    trace = pm.sample(2000, tune=1000, cores=1)\n",
    "\n",
    "    # Step 5: Analyze the posterior distribution\n",
    "    pm.traceplot(trace)\n",
    "    plt.show()\n",
    "\n",
    "    # Step 6: Make predictions, use X_test, y_test\n",
    "    \n",
    "    y_pred = pm.sample_posterior_predictive(trace, samples=2000, model=model)\n",
    "    y_pred = y_pred['y']\n",
    "\n",
    "# Access the samples from the posterior distribution\n",
    "parameter1_samples = trace['alpha']\n",
    "parameter2_samples = trace['beta']\n",
    "\n",
    "# Distribution summary statistics of standard Bayesian linear regression model\n",
    "print(pm.summary(trace))"
   ]
  },
  {
   "cell_type": "code",
   "execution_count": null,
   "metadata": {},
   "outputs": [],
   "source": [
    "# Forecast responses of Bayesian linear regression model"
   ]
  }
 ],
 "metadata": {
  "kernelspec": {
   "display_name": "baseenv",
   "language": "python",
   "name": "python3"
  },
  "language_info": {
   "codemirror_mode": {
    "name": "ipython",
    "version": 3
   },
   "file_extension": ".py",
   "mimetype": "text/x-python",
   "name": "python",
   "nbconvert_exporter": "python",
   "pygments_lexer": "ipython3",
   "version": "3.10.12"
  }
 },
 "nbformat": 4,
 "nbformat_minor": 2
}
