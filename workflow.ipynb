{
 "cells": [
  {
   "cell_type": "code",
   "execution_count": 2,
   "id": "initial_id",
   "metadata": {
    "collapsed": true,
    "ExecuteTime": {
     "end_time": "2024-05-03T00:40:10.962603Z",
     "start_time": "2024-05-03T00:40:10.954129Z"
    }
   },
   "outputs": [],
   "source": [
    "# enter the machine and conda activate\n",
    "import shutil\n",
    "import os\n",
    "import sys\n",
    "import subprocess\n",
    "\n",
    "import fileinput\n"
   ]
  },
  {
   "cell_type": "markdown",
   "source": [
    "before run the workflow we need this files in working directory:\n",
    "\n",
    "    POSCAR_BZO_ROTATION\n",
    "    in_template.lammps\n",
    "    graph18-compress0.pb\n",
    "    dump2xml.py"
   ],
   "metadata": {
    "collapsed": false
   },
   "id": "537beb30343e0306"
  },
  {
   "cell_type": "code",
   "execution_count": 1,
   "outputs": [
    {
     "ename": "NameError",
     "evalue": "name 'subprocess' is not defined",
     "output_type": "error",
     "traceback": [
      "\u001B[0;31m---------------------------------------------------------------------------\u001B[0m",
      "\u001B[0;31mNameError\u001B[0m                                 Traceback (most recent call last)",
      "Cell \u001B[0;32mIn[1], line 1\u001B[0m\n\u001B[0;32m----> 1\u001B[0m result \u001B[38;5;241m=\u001B[39m \u001B[43msubprocess\u001B[49m\u001B[38;5;241m.\u001B[39mrun([\u001B[38;5;124m\"\u001B[39m\u001B[38;5;124mphono3py\u001B[39m\u001B[38;5;124m\"\u001B[39m, \u001B[38;5;124m\"\u001B[39m\u001B[38;5;124m-d\u001B[39m\u001B[38;5;124m\"\u001B[39m, \u001B[38;5;124m\"\u001B[39m\u001B[38;5;124m--dim=\u001B[39m\u001B[38;5;130;01m\\\"\u001B[39;00m\u001B[38;5;124m1 1 1\u001B[39m\u001B[38;5;130;01m\\\"\u001B[39;00m\u001B[38;5;124m\"\u001B[39m, \u001B[38;5;124m\"\u001B[39m\u001B[38;5;124m-c\u001B[39m\u001B[38;5;124m\"\u001B[39m, \u001B[38;5;124m\"\u001B[39m\u001B[38;5;124mPOSCAR_BZO_ROTATION\u001B[39m\u001B[38;5;124m\"\u001B[39m], capture_output\u001B[38;5;241m=\u001B[39m\u001B[38;5;28;01mTrue\u001B[39;00m, text\u001B[38;5;241m=\u001B[39m\u001B[38;5;28;01mTrue\u001B[39;00m) \u001B[38;5;66;03m# phono3py -d --dim=\"1 1 1\" -c POSCAR_BZO_ROTATION \u001B[39;00m\n\u001B[1;32m      3\u001B[0m \u001B[38;5;28mprint\u001B[39m(result\u001B[38;5;241m.\u001B[39mstdout)\n",
      "\u001B[0;31mNameError\u001B[0m: name 'subprocess' is not defined"
     ]
    }
   ],
   "source": [
    "result = subprocess.run([\"phono3py\", \"-d\", \"--dim=\\\"1 1 1\\\"\", \"-c\", \"POSCAR_BZO_ROTATION\"], capture_output=True, text=True) # phono3py -d --dim=\"1 1 1\" -c POSCAR_BZO_ROTATION \n",
    "\n",
    "print(result.stdout)"
   ],
   "metadata": {
    "collapsed": false,
    "ExecuteTime": {
     "end_time": "2024-05-02T12:28:03.613642Z",
     "start_time": "2024-05-02T12:28:03.246485Z"
    }
   },
   "id": "a32c9a6517036bd2"
  },
  {
   "cell_type": "code",
   "execution_count": null,
   "outputs": [],
   "source": [
    "# mv the POSCAR-00xxx to POSCAR-OO directory\n",
    "if os.path.exists('POSCAR-OO'): \n",
    "    shutil.rmtree('POSCAR-OO')\n",
    "os.mkdir(\"POSCAR-OO\")\n",
    "shutil.move(\"POSCAR-00*\", \"POSCAR-OO/POSCAR-00*\")       # the wildcard is enable?"
   ],
   "metadata": {
    "collapsed": false
   },
   "id": "e71e0fdb8ddcc514"
  },
  {
   "cell_type": "code",
   "execution_count": null,
   "outputs": [],
   "source": [
    "# format poscar to lmp for deepmd lmp input\n",
    "if os.path.exists('lmp'): \n",
    "    shutil.rmtree('lmp')\n",
    "os.mkdir(\"lmp\")\n",
    "\n",
    "for p, d, files in os.walk(\"POSCAR-OO\"):\n",
    "    for f in files:\n",
    "        index_name = f.split('.')[0]\n",
    "        subprocess.run([\"atomsk\", \"POSCAR-OO/\"+f, \"lmp/\", \"lammps\"])      # atomsk POSCAR-00/POSCAR-00001 lammps\n"
   ],
   "metadata": {
    "collapsed": false
   },
   "id": "f398422e3dc734a2"
  },
  {
   "cell_type": "code",
   "execution_count": 10,
   "outputs": [],
   "source": [
    "# in_f = 'in_00002.lammps'\n",
    "for p, d, files in os.walk('lmp'):\n",
    "    for f in files:\n",
    "        if f.endswith('.lmp'):\n",
    "            base_name = 'POSCAR-00'\n",
    "            index = f.split('.')[0].replace(base_name, '')\n",
    "            # index = '001'\n",
    "            try:\n",
    "                shutil.copy(\"in_template.lammps\", f\"lmp/in-00{index}.lammps\")\n",
    "            except:\n",
    "                print(\"in_template.lammps not found\")\n"
   ],
   "metadata": {
    "collapsed": false,
    "ExecuteTime": {
     "end_time": "2024-05-03T00:46:16.341590Z",
     "start_time": "2024-05-03T00:46:16.331627Z"
    }
   },
   "id": "762d70be3f7eae93"
  },
  {
   "cell_type": "markdown",
   "source": [],
   "metadata": {
    "collapsed": false
   },
   "id": "2aa1b4fd2c41f3fd"
  },
  {
   "cell_type": "code",
   "execution_count": 11,
   "outputs": [
    {
     "name": "stdout",
     "output_type": "stream",
     "text": [
      "in-00 in-00002.lammps 002\n"
     ]
    }
   ],
   "source": [
    "# generate in.lammps for deepmd\n",
    "for p, d, files in os.walk(\"lmp\"):\n",
    "    for f in files:\n",
    "        if f.endswith('.lammps'):\n",
    "            base_name='in-00'\n",
    "            index = f.split('.')[0].replace(base_name, '')\n",
    "            print(base_name, f, index)\n",
    "            # configure read_data and write_dump \n",
    "            import fileinput\n",
    "            old_tag = \"<index>\"\n",
    "            new_tag = index\n",
    "            with fileinput.input(os.path.join('lmp', f), inplace=True) as f_handle:\n",
    "                for line in f_handle:\n",
    "                    print(line.replace(old_tag, new_tag), end='')\n",
    "                    "
   ],
   "metadata": {
    "collapsed": false,
    "ExecuteTime": {
     "end_time": "2024-05-03T00:46:20.822774Z",
     "start_time": "2024-05-03T00:46:20.756587Z"
    }
   },
   "id": "146ac92ce4e7792a"
  },
  {
   "cell_type": "markdown",
   "source": [],
   "metadata": {
    "collapsed": false
   },
   "id": "2f0a196ad42b66db"
  },
  {
   "cell_type": "code",
   "execution_count": 18,
   "outputs": [
    {
     "name": "stdout",
     "output_type": "stream",
     "text": [
      "I'm tired of waiting.before join, i sleep 2 seconds.\n",
      "I'm working on something that takes longer than 10 seconds.\n",
      "I finished work before join.\n"
     ]
    }
   ],
   "source": [
    "# this is test sychronize in python,wait my_func() and then excute the below code.\n",
    "\n",
    "from time import sleep\n",
    "import threading\n",
    "\n",
    "def my_func():\n",
    "    sleep(10)\n",
    "    print(\n",
    "        \"I'm working on something that takes longer than 10 seconds.\"\n",
    "    )\n",
    "\n",
    "t = threading.Thread(target=my_func)\n",
    "t.start()\n",
    "\n",
    "sleep(2)   \n",
    "print(\"I'm tired of waiting.before join, i sleep 2 seconds.\")\n",
    "\n",
    "t.join()\n",
    "\n",
    "print(\"I finished work before join.\")\n",
    "# the result should like this sequence:\n",
    "# print(\"I'm tired of waiting.before join, i sleep 2 seconds.\")\n",
    "# print(\"I'm working on something that takes longer than 10 seconds.\")\n",
    "# print(\"I finished work before join.\")\n"
   ],
   "metadata": {
    "collapsed": false,
    "ExecuteTime": {
     "end_time": "2024-05-03T01:09:18.887499Z",
     "start_time": "2024-05-03T01:09:08.848543Z"
    }
   },
   "id": "5805c4fb2be1e14d"
  },
  {
   "cell_type": "code",
   "execution_count": 17,
   "outputs": [
    {
     "name": "stdout",
     "output_type": "stream",
     "text": [
      "Running time: 1 Seconds\n",
      "Executed 1 times per sample 1\n"
     ]
    }
   ],
   "source": [
    "# run deepmd lmp in lmp files , run this command is need wait for a while time. count\n",
    "import timeit\n",
    "import threading    \n",
    "\n",
    "def mpi_run():\n",
    "    start_time = timeit.default_timer()\n",
    "    \n",
    "    count = 0\n",
    "    for p, d, files in os.walk(\"lmp\"):\n",
    "        for f in files:\n",
    "            if f.endswith('.lammps'):\n",
    "                count += 1\n",
    "                index = f.split('.')[0].replace('in-', '')\n",
    "                # TODO THIS COMMAND CAN SYCHRONIZE ???\n",
    "                p = subprocess.Popen([\"mpirun\", \"-n\", \"10\", \"lmp\", \"-in\", f\"lmp/{f}\", f\">lmp-{index}.out\", f\"2>lmp-{index}.err\"])# mpirun -n 10 lmp -in in-00002.lammps >lmp-00002.out 2>lmp-00002.err\n",
    "                p.wait()\n",
    "    \n",
    "    end_time = timeit.default_timer()\n",
    "    print('Running time: %d Seconds.' % (end_time - start_time))\n",
    "    if count != 0:\n",
    "        print('Executed %s times per sample.' % count)\n",
    "\n",
    "t = threading.Thread(target=mpi_run)\n",
    "t.start()\n",
    "t.join()"
   ],
   "metadata": {
    "collapsed": false,
    "ExecuteTime": {
     "start_time": "2024-05-03T01:03:08.084534Z"
    }
   },
   "id": "d54076b6fe3b8d4"
  },
  {
   "cell_type": "code",
   "execution_count": 21,
   "outputs": [],
   "source": [
    "# format deepmd output BZO-00002.dump to xml file for phono3py\n",
    "def read_dump(dump_file):\n",
    "    with open(dump_file, 'r') as f:\n",
    "        lines = f.readlines()\n",
    "    lines = lines[9:]\n",
    "    data = [i.split() for i in lines]\n",
    "    fxfyfz = []\n",
    "    for i in data:\n",
    "        fxfyfz.append([float(i[-3]), float(i[-2]), float(i[-1])])\n",
    "    return fxfyfz\n",
    "\n",
    "def write_xml(fxfyfz, xml_file):\n",
    "    with open(xml_file, 'w') as f:\n",
    "        f.write('<?xml version=\"1.0\" encoding=\"ISO-8859-1\"?>\\n')\n",
    "        f.write('<modeling>\\n')\n",
    "        f.write('   <calculation>\\n')\n",
    "        f.write('       <varray name=\"force\">\\n')\n",
    "        # the force data is in the 10th line to the end\n",
    "        for i in fxfyfz:\n",
    "            f.write(f'           <v>{i[0]} {i[1]} {i[2]}</v>\\n')\n",
    "        f.write('       </varray>\\n')\n",
    "        f.write('   </calculation>\\n')\n",
    "        f.write('</modeling>\\n')"
   ],
   "metadata": {
    "collapsed": false,
    "ExecuteTime": {
     "end_time": "2024-05-03T01:29:07.998006Z",
     "start_time": "2024-05-03T01:29:07.984526Z"
    }
   },
   "id": "57784110d20ef2ed"
  },
  {
   "cell_type": "code",
   "execution_count": 22,
   "outputs": [],
   "source": [
    "for p, d, files in os.walk(\"output\"):\n",
    "    for f in files:\n",
    "        if f.endswith('.dump'):\n",
    "            dump_file = os.path.join('output', f)\n",
    "            xml_file = os.path.join('output', f.replace('.dump', '.xml'))\n",
    "            fxfyfz = read_dump(dump_file)\n",
    "            write_xml(fxfyfz, xml_file)"
   ],
   "metadata": {
    "collapsed": false,
    "ExecuteTime": {
     "end_time": "2024-05-03T01:29:13.827382Z",
     "start_time": "2024-05-03T01:29:13.761207Z"
    }
   },
   "id": "c6cffeabb909feeb"
  },
  {
   "cell_type": "code",
   "execution_count": null,
   "outputs": [],
   "source": [
    "# use phono3py generate FORCE_FC3 and thermal conductivity\n",
    "import subprocess\n",
    "\n",
    "command_1 = subprocess.Popen([\"phono3py\", \"--cf3\", \"output/*.xml\"])\n",
    "command_1.wait()\n",
    "command_2 = subprocess.Popen([\"phono3py\", \"--sym-fc\"])\n",
    "command_2.wait()\n",
    "command_3 = subprocess.run([\"phono3py\", \"--fc3\", \"--fc2\", \"--dim=\\\"1 1 1\\\"\", \"--mesh=\\\"10 10 10\\\"\", \"--br\", \"--tmin=10\", \"--tmax=1000\", \"&> Heat.txt\"])\n",
    "command_3.wait()"
   ],
   "metadata": {
    "collapsed": false
   },
   "id": "31bd4b8286512d62"
  },
  {
   "cell_type": "code",
   "execution_count": 23,
   "outputs": [
    {
     "name": "stdout",
     "output_type": "stream",
     "text": [
      "hello world\n",
      "before 5 seconds\n",
      "after 5 seconds\n"
     ]
    }
   ],
   "source": [
    "import subprocess\n",
    "\n",
    "print('hello world')\n",
    "p = subprocess.Popen([\"sleep\", \"5\"])\n",
    "print('before 5 seconds')\n",
    "p.wait()\n",
    "print('after 5 seconds')"
   ],
   "metadata": {
    "collapsed": false,
    "ExecuteTime": {
     "end_time": "2024-05-03T01:44:24.255096Z",
     "start_time": "2024-05-03T01:44:19.126747Z"
    }
   },
   "id": "20cc0d52ca80d93"
  },
  {
   "cell_type": "code",
   "execution_count": null,
   "outputs": [],
   "source": [],
   "metadata": {
    "collapsed": false
   },
   "id": "53aeb28e2cbe47b"
  }
 ],
 "metadata": {
  "kernelspec": {
   "display_name": "Python 3",
   "language": "python",
   "name": "python3"
  },
  "language_info": {
   "codemirror_mode": {
    "name": "ipython",
    "version": 2
   },
   "file_extension": ".py",
   "mimetype": "text/x-python",
   "name": "python",
   "nbconvert_exporter": "python",
   "pygments_lexer": "ipython2",
   "version": "2.7.6"
  }
 },
 "nbformat": 4,
 "nbformat_minor": 5
}
